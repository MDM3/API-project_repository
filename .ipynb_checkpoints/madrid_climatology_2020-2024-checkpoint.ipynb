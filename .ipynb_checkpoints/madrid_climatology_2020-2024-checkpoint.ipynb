{
 "cells": [
  {
   "cell_type": "code",
   "execution_count": 1,
   "metadata": {},
   "outputs": [],
   "source": [
    "import pandas as pd\n",
    "import glob\n",
    "import os"
   ]
  },
  {
   "cell_type": "code",
   "execution_count": 2,
   "metadata": {},
   "outputs": [],
   "source": [
    "path = r'C:\\Users\\Darkos\\Desktop\\Labs\\WEEK_3_First_porject_'\n",
    "dataframes = []\n",
    "\n",
    "for archive in glob.glob(os.path.join(path, '*.csv')): #Utiliza glob para buscar todos los archivos que terminen en .csv dentro de la carpeta especificada en ruta_carpeta.\n",
    "    df = pd.read_csv(archive)\n",
    "    dataframes.append(df)"
   ]
  },
  {
   "cell_type": "code",
   "execution_count": 5,
   "metadata": {},
   "outputs": [
    {
     "data": {
      "text/plain": [
       "40"
      ]
     },
     "execution_count": 5,
     "metadata": {},
     "output_type": "execute_result"
    }
   ],
   "source": [
    "len(dataframes)"
   ]
  },
  {
   "cell_type": "code",
   "execution_count": 7,
   "metadata": {},
   "outputs": [],
   "source": [
    "df_concatenated = pd.concat(dataframes, ignore_index=True)"
   ]
  },
  {
   "cell_type": "code",
   "execution_count": 9,
   "metadata": {},
   "outputs": [],
   "source": [
    "df_concatenated = df_concatenated.drop(['sol','presMax','horaPresMax', 'presMin','horaPresMin','hrMin','horaHrMin','horaracha','hrMedia','hrMax','horaHrMax'], axis=1)\n"
   ]
  },
  {
   "cell_type": "code",
   "execution_count": null,
   "metadata": {},
   "outputs": [],
   "source": [
    "columns_convert = ['tmed', 'prec','tmin','horatmin']"
   ]
  },
  {
   "cell_type": "code",
   "execution_count": 11,
   "metadata": {},
   "outputs": [
    {
     "name": "stdout",
     "output_type": "stream",
     "text": [
      "<class 'pandas.core.frame.DataFrame'>\n",
      "RangeIndex: 6915 entries, 0 to 6914\n",
      "Data columns (total 14 columns):\n",
      " #   Column      Non-Null Count  Dtype  \n",
      "---  ------      --------------  -----  \n",
      " 0   fecha       6915 non-null   object \n",
      " 1   indicativo  6915 non-null   object \n",
      " 2   nombre      6915 non-null   object \n",
      " 3   provincia   6915 non-null   object \n",
      " 4   altitud     6915 non-null   int64  \n",
      " 5   tmed        6884 non-null   object \n",
      " 6   prec        6735 non-null   object \n",
      " 7   tmin        6884 non-null   object \n",
      " 8   horatmin    6884 non-null   object \n",
      " 9   tmax        6884 non-null   object \n",
      " 10  horatmax    6884 non-null   object \n",
      " 11  dir         6191 non-null   float64\n",
      " 12  velmedia    6309 non-null   object \n",
      " 13  racha       6191 non-null   object \n",
      "dtypes: float64(1), int64(1), object(12)\n",
      "memory usage: 756.5+ KB\n"
     ]
    }
   ],
   "source": [
    "df_concatenated.info()"
   ]
  },
  {
   "cell_type": "code",
   "execution_count": 13,
   "metadata": {},
   "outputs": [],
   "source": [
    "def dir(grades):\n",
    "    if 1 <= grades <= 12:\n",
    "        return \"N\"\n",
    "    elif 13 <= grades <= 24:\n",
    "        return \"NE\"\n",
    "    elif 25 <= grades <= 36:\n",
    "        return \"E\"\n",
    "    elif 37 <= grades <= 48:\n",
    "        return \"SE\"\n",
    "    elif 49 <= grades <= 60:\n",
    "        return \"S\"\n",
    "    elif 61 <= grades <= 72:\n",
    "        return \"SW\"\n",
    "    elif 73 <= grades <= 84:\n",
    "        return \"W\"\n",
    "    elif 85 <= grades <= 99:\n",
    "        return \"NW\"\n",
    "    \n",
    "df_concatenated['dir'] = df_concatenated['dir'].apply(dir)"
   ]
  },
  {
   "cell_type": "code",
   "execution_count": null,
   "metadata": {},
   "outputs": [],
   "source": [
    "df_concatenated.head()"
   ]
  },
  {
   "cell_type": "code",
   "execution_count": null,
   "metadata": {},
   "outputs": [],
   "source": [
    "#df_concatenated.to_csv('master_madrid.csv', index=False)"
   ]
  },
  {
   "cell_type": "code",
   "execution_count": 15,
   "metadata": {},
   "outputs": [
    {
     "data": {
      "text/plain": [
       "725"
      ]
     },
     "execution_count": 15,
     "metadata": {},
     "output_type": "execute_result"
    }
   ],
   "source": [
    "df_concatenated['dir'].isna().sum()"
   ]
  },
  {
   "cell_type": "code",
   "execution_count": 17,
   "metadata": {},
   "outputs": [
    {
     "data": {
      "text/plain": [
       "4"
      ]
     },
     "execution_count": 17,
     "metadata": {},
     "output_type": "execute_result"
    }
   ],
   "source": [
    "df_concatenated['dir'].nunique()"
   ]
  },
  {
   "cell_type": "code",
   "execution_count": 19,
   "metadata": {},
   "outputs": [
    {
     "name": "stdout",
     "output_type": "stream",
     "text": [
      "<class 'pandas.core.frame.DataFrame'>\n",
      "RangeIndex: 6915 entries, 0 to 6914\n",
      "Data columns (total 14 columns):\n",
      " #   Column      Non-Null Count  Dtype \n",
      "---  ------      --------------  ----- \n",
      " 0   fecha       6915 non-null   object\n",
      " 1   indicativo  6915 non-null   object\n",
      " 2   nombre      6915 non-null   object\n",
      " 3   provincia   6915 non-null   object\n",
      " 4   altitud     6915 non-null   int64 \n",
      " 5   tmed        6884 non-null   object\n",
      " 6   prec        6735 non-null   object\n",
      " 7   tmin        6884 non-null   object\n",
      " 8   horatmin    6884 non-null   object\n",
      " 9   tmax        6884 non-null   object\n",
      " 10  horatmax    6884 non-null   object\n",
      " 11  dir         6915 non-null   object\n",
      " 12  velmedia    6309 non-null   object\n",
      " 13  racha       6191 non-null   object\n",
      "dtypes: int64(1), object(13)\n",
      "memory usage: 756.5+ KB\n"
     ]
    }
   ],
   "source": [
    "df_concatenated['dir'] = df_concatenated['dir'].ffill()\n",
    "df_concatenated.info()"
   ]
  },
  {
   "cell_type": "code",
   "execution_count": null,
   "metadata": {},
   "outputs": [],
   "source": []
  }
 ],
 "metadata": {
  "kernelspec": {
   "display_name": "Python 3 (ipykernel)",
   "language": "python",
   "name": "python3"
  },
  "language_info": {
   "codemirror_mode": {
    "name": "ipython",
    "version": 3
   },
   "file_extension": ".py",
   "mimetype": "text/x-python",
   "name": "python",
   "nbconvert_exporter": "python",
   "pygments_lexer": "ipython3",
   "version": "3.12.4"
  }
 },
 "nbformat": 4,
 "nbformat_minor": 4
}
